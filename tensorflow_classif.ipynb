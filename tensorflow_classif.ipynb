{
 "cells": [
  {
   "cell_type": "markdown",
   "metadata": {},
   "source": [
    "Simple classification with Tensorflow\n",
    "========\n",
    "\n",
    "Bruno Sciolla, 2017\n",
    "\n",
    "Tested with Tensorflow v.'0.11.0rc2'.\n",
    "\n",
    "- Creates a 3 layer neural network to classify a 2D point into two categories: inside/outside of a circle.\n",
    "\n",
    "- Designed to mimick http://playground.tensorflow.org/\n"
   ]
  },
  {
   "cell_type": "code",
   "execution_count": 1,
   "metadata": {
    "collapsed": true
   },
   "outputs": [],
   "source": [
    "from __future__ import print_function"
   ]
  },
  {
   "cell_type": "code",
   "execution_count": 2,
   "metadata": {
    "collapsed": true
   },
   "outputs": [],
   "source": [
    "import matplotlib\n",
    "import matplotlib.pyplot as plt\n",
    "get_ipython().magic(u'matplotlib inline')"
   ]
  },
  {
   "cell_type": "code",
   "execution_count": 3,
   "metadata": {
    "collapsed": false
   },
   "outputs": [],
   "source": [
    "import tensorflow as tf\n",
    "import numpy\n"
   ]
  },
  {
   "cell_type": "markdown",
   "metadata": {},
   "source": [
    "The problem\n",
    "-----------\n",
    "\n",
    "Let us build and train a small neural network that classifies point 2D"
   ]
  },
  {
   "cell_type": "code",
   "execution_count": 4,
   "metadata": {
    "collapsed": true
   },
   "outputs": [],
   "source": [
    "    # Global parameter: radius of the circle\n",
    "radius = 0.4"
   ]
  },
  {
   "cell_type": "code",
   "execution_count": 5,
   "metadata": {
    "collapsed": true
   },
   "outputs": [],
   "source": [
    "def get_new_batch(batch_size, radius):\n",
    "    \"\"\" Draw points and their label on the fly. \"\"\"\n",
    "    x = numpy.random.uniform(0,1,size=[batch_size,2])\n",
    "    y = (numpy.square(x[:,0]-0.5) + numpy.square(x[:,1]-0.5)) < radius**2\n",
    "    y = y.astype(float)\n",
    "    \n",
    "    return x, y"
   ]
  },
  {
   "cell_type": "code",
   "execution_count": 6,
   "metadata": {
    "collapsed": false
   },
   "outputs": [
    {
     "data": {
      "image/png": "[encoded data removed]",
      "text/plain": [
       "<matplotlib.figure.Figure at 0x4b39a50>"
      ]
     },
     "metadata": {},
     "output_type": "display_data"
    }
   ],
   "source": [
    "batch_xs, batch_ys = get_new_batch(200, radius)\n",
    "fig, ax = plt.subplots(1,1,figsize=(5,5))\n",
    "for i in range(batch_ys.shape[0]):\n",
    "    if batch_ys[i] < 0.5:\n",
    "        ax.plot(batch_xs[i,0], batch_xs[i,1],'ro')\n",
    "    else:\n",
    "        ax.plot(batch_xs[i,0], batch_xs[i,1],'bo')\n",
    "    \n",
    "\n",
    "circle1 = matplotlib.patches.Circle([0.5,0.5], \n",
    "                                    radius = radius, fill=False)\n",
    "ax.add_artist(circle1)\n",
    "ax.set_aspect(1)\n",
    "ax.set_title('Classify points in and out')\n",
    "\n",
    "plt.show()"
   ]
  },
  {
   "cell_type": "markdown",
   "metadata": {},
   "source": [
    "Defining the network\n",
    "-------------------\n",
    "\n",
    "\n"
   ]
  },
  {
   "cell_type": "code",
   "execution_count": 7,
   "metadata": {
    "collapsed": true
   },
   "outputs": [],
   "source": [
    "\n",
    "def weight_variable(shape):\n",
    "    \"\"\" Create a weight variable with appropriate initialization. \"\"\"\n",
    "    initial = tf.truncated_normal(shape, stddev=0.1)\n",
    "    return tf.Variable(initial)\n",
    "\n",
    "def bias_variable(shape):\n",
    "    \"\"\" Create a bias variable with appropriate initialization. \"\"\"\n",
    "    initial = tf.constant(0.1, shape=shape)\n",
    "    return tf.Variable(initial)\n"
   ]
  },
  {
   "cell_type": "code",
   "execution_count": 8,
   "metadata": {
    "collapsed": false
   },
   "outputs": [],
   "source": [
    "# Number neurons by layer\n",
    "neurons_layer1 = 8\n",
    "neurons_layer2 = 10\n",
    "\n",
    "# Input\n",
    "x = tf.placeholder(tf.float32, [None, 2])\n",
    "\n",
    "# Layer 1\n",
    "W1 = weight_variable([2, neurons_layer1])\n",
    "b1 = bias_variable([neurons_layer1])\n",
    "y1 = tf.nn.relu(tf.matmul(x, W1) + b1)\n",
    "\n",
    "# Layer 2\n",
    "W2 = weight_variable([neurons_layer1, neurons_layer2])\n",
    "b2 = bias_variable([neurons_layer2])\n",
    "y2 = tf.nn.relu(tf.matmul(y1, W2) + b2)\n",
    "\n",
    "# Layer 3\n",
    "W3 = weight_variable([neurons_layer2, 1])\n",
    "b3 = bias_variable([1])\n",
    "y3 = tf.nn.sigmoid(tf.matmul(y2, W3) + b3)\n",
    "output = tf.squeeze(y3)\n"
   ]
  },
  {
   "cell_type": "code",
   "execution_count": null,
   "metadata": {
    "collapsed": false
   },
   "outputs": [],
   "source": [
    "# References (given during training)\n",
    "y_ = tf.placeholder(tf.float32, [None])\n",
    "\n",
    "# Cost function\n",
    "loss = tf.reduce_mean((y_ - output) * (y_ - output))\n",
    "train_step = tf.train.GradientDescentOptimizer(0.3).minimize(loss)"
   ]
  },
  {
   "cell_type": "markdown",
   "metadata": {},
   "source": [
    "Training\n",
    "-------------------"
   ]
  },
  {
   "cell_type": "code",
   "execution_count": null,
   "metadata": {
    "collapsed": false
   },
   "outputs": [],
   "source": [
    "sess = tf.InteractiveSession()\n",
    "\n",
    "tf.initialize_all_variables().run()\n",
    "# Train\n",
    "for i in range(10000):\n",
    "    batch_xs, batch_ys = get_new_batch(20, radius)\n",
    "    summary, vloss = sess.run([train_step, loss],\n",
    "                              feed_dict = {x: batch_xs, y_: batch_ys})\n",
    "\n",
    "print('Error rate: ', vloss)"
   ]
  },
  {
   "cell_type": "markdown",
   "metadata": {},
   "source": [
    "Results\n",
    "-------------"
   ]
  },
  {
   "cell_type": "code",
   "execution_count": null,
   "metadata": {
    "collapsed": false
   },
   "outputs": [],
   "source": [
    "batch_xs, batch_ys = get_new_batch(50, radius)\n",
    "[yout] = sess.run([y3], feed_dict={x: batch_xs})\n"
   ]
  },
  {
   "cell_type": "code",
   "execution_count": null,
   "metadata": {
    "collapsed": false
   },
   "outputs": [],
   "source": [
    "fig, (ax, ax2) = plt.subplots(1,2,figsize=(10,5))\n",
    "for i in range(yout.shape[0]):\n",
    "    if yout[i] < 0.5:\n",
    "        ax.plot(batch_xs[i,0],batch_xs[i,1],'ro')\n",
    "    else:\n",
    "        ax.plot(batch_xs[i,0],batch_xs[i,1],'bo')\n",
    "    if batch_ys[i] < 0.5:\n",
    "        ax2.plot(batch_xs[i,0],batch_xs[i,1],'ro')\n",
    "    else:\n",
    "        ax2.plot(batch_xs[i,0],batch_xs[i,1],'bo')\n",
    "    \n",
    "\n",
    "circle1 = matplotlib.patches.Circle([0.5,0.5], \n",
    "                                    radius = radius, fill=False)\n",
    "circle2 = matplotlib.patches.Circle([0.5,0.5], \n",
    "                                    radius = radius, fill=False)\n",
    "ax.add_artist(circle1)\n",
    "ax2.add_artist(circle2)\n",
    "ax.set_aspect(1)\n",
    "ax2.set_aspect(1)\n",
    "ax.set_title('Neural Network')\n",
    "ax2.set_title('Reference')\n",
    "\n",
    "\n",
    "plt.show()"
   ]
  },
  {
   "cell_type": "code",
   "execution_count": null,
   "metadata": {
    "collapsed": true
   },
   "outputs": [],
   "source": []
  }
 ],
 "metadata": {
  "kernelspec": {
   "display_name": "Python 2",
   "language": "python",
   "name": "python2"
  },
  "language_info": {
   "codemirror_mode": {
    "name": "ipython",
    "version": 2
   },
   "file_extension": ".py",
   "mimetype": "text/x-python",
   "name": "python",
   "nbconvert_exporter": "python",
   "pygments_lexer": "ipython2",
   "version": "2.7.5"
  }
 },
 "nbformat": 4,
 "nbformat_minor": 0
}
